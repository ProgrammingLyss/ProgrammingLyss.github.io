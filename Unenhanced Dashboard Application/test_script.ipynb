{
 "cells": [
  {
   "cell_type": "code",
   "execution_count": 1,
   "metadata": {},
   "outputs": [
    {
     "name": "stdout",
     "output_type": "stream",
     "text": [
      "animal_id DANA5AZAOAD being created\n",
      "New animal added successfully.\n",
      "{'_id': ObjectId('642eeff6654bd3a385733087'), 'animal_type': 'Cat', 'color': 'Black/White'}\n",
      "{'_id': ObjectId('642eeff6654bd3a385733087'), 'animal_type': 'Cat', 'color': 'Black/White'}\n",
      "<pymongo.results.DeleteResult object at 0x10edddb00>\n"
     ]
    }
   ],
   "source": [
    "from animal_shelter import AnimalShelter\n",
    "import random\n",
    "import string\n",
    "import json\n",
    "# creating class object\n",
    "shelter = AnimalShelter()\n",
    "animal_id = 'A'.join(random.choices(string.ascii_uppercase + string.digits, k = 6))\n",
    "print('animal_id %s being created' % animal_id)\n",
    "outcome = json.loads('{\"\" : 78258,\"age_upon_outcome\" : \"1.6 years\",\"animal_id\" : \"' + animal_id + '\",\"animal_type\" : \"Dog\",\"breed\" : \"Wolf Shepherd Mix\",\"color\" : \"Gray\",\"date_of_birth\" : \"2013-02-09\",\"datetime\" : \"2014-04-11 13:26:00\",\"monthyear\" : \"2014-04-11T13:26:00\",\"name\" : \"*JakeMo\",\"outcome_subtype\" : \"Partner\",\"outcome_type\" : \"Transfer\",\"sex_upon_outcome\" : \"Intact Male\",\"location_lat\" : 30.707721081886,\"location_long\" : -97.2735696278757,\"age_upon_outcome_in_weeks\" : 79.0799603174603}')\n",
    "if shelter.create(outcome):\n",
    "    print(\"New animal added successfully.\")\n",
    "animal = shelter.read({\"animal_id\":animal_id})\n",
    "print(animal)\n",
    "shelter.update({\"animal_id\":animal_id},{\"color\":\"Black\"})\n",
    "animal = shelter.read({\"animal_id\":animal_id})\n",
    "print(animal)\n",
    "returnVal = shelter.delete({\"animal_id\":animal_id})\n",
    "print(returnVal)\n",
    "\n",
    "\n",
    "    \n"
   ]
  },
  {
   "cell_type": "code",
   "execution_count": null,
   "metadata": {},
   "outputs": [],
   "source": []
  },
  {
   "cell_type": "code",
   "execution_count": null,
   "metadata": {},
   "outputs": [],
   "source": []
  }
 ],
 "metadata": {
  "kernelspec": {
   "display_name": "Python 3 (ipykernel)",
   "language": "python",
   "name": "python3"
  },
  "language_info": {
   "codemirror_mode": {
    "name": "ipython",
    "version": 3
   },
   "file_extension": ".py",
   "mimetype": "text/x-python",
   "name": "python",
   "nbconvert_exporter": "python",
   "pygments_lexer": "ipython3",
   "version": "3.9.6"
  }
 },
 "nbformat": 4,
 "nbformat_minor": 2
}
